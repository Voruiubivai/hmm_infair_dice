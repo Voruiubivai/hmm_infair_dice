{
 "cells": [
  {
   "cell_type": "code",
   "execution_count": 984,
   "metadata": {},
   "outputs": [],
   "source": [
    "import numpy as np\n",
    "import matplotlib.pyplot as plt\n",
    "import math\n",
    "from hmmlearn import hmm\n",
    "\n",
    "\n",
    "%matplotlib notebook"
   ]
  },
  {
   "cell_type": "markdown",
   "metadata": {},
   "source": [
    "### Распределения и HMM в Python"
   ]
  },
  {
   "cell_type": "markdown",
   "metadata": {},
   "source": [
    "Задаём распределения для матрицы переходово, матрицы наблюдений и начальное распределение."
   ]
  },
  {
   "cell_type": "code",
   "execution_count": 950,
   "metadata": {},
   "outputs": [],
   "source": [
    "M = 2\n",
    "K = 6\n",
    "L = 20"
   ]
  },
  {
   "cell_type": "code",
   "execution_count": 951,
   "metadata": {},
   "outputs": [],
   "source": [
    "states = np.array([[0.95, 0.05],\n",
    "                   [0.1,  0.9]])"
   ]
  },
  {
   "cell_type": "code",
   "execution_count": 952,
   "metadata": {},
   "outputs": [],
   "source": [
    "emis = np.array([[0.16, 0.1],\n",
    "                 [0.16, 0.1],\n",
    "                 [0.16, 0.1],\n",
    "                 [0.16, 0.1],\n",
    "                 [0.16, 0.1],\n",
    "                 [0.16, 0.5]\n",
    "                            ])"
   ]
  },
  {
   "cell_type": "code",
   "execution_count": 953,
   "metadata": {},
   "outputs": [],
   "source": [
    "start = np.array([0.5, 0.5])"
   ]
  },
  {
   "cell_type": "code",
   "execution_count": 954,
   "metadata": {},
   "outputs": [],
   "source": [
    "emis = emis.T"
   ]
  },
  {
   "cell_type": "code",
   "execution_count": 955,
   "metadata": {},
   "outputs": [
    {
     "data": {
      "text/plain": [
       "array([[0.16, 0.16, 0.16, 0.16, 0.16, 0.16],\n",
       "       [0.1 , 0.1 , 0.1 , 0.1 , 0.1 , 0.5 ]])"
      ]
     },
     "execution_count": 955,
     "metadata": {},
     "output_type": "execute_result"
    }
   ],
   "source": [
    "emis"
   ]
  },
  {
   "cell_type": "markdown",
   "metadata": {},
   "source": [
    "Так же в Python есть модуль для формирования HMM по начальным матрицам, я воспользовался им, чтобы сравнивать своё апостериорное распределение и прогноз алгоритма Витерби. И с помощью него я формировал начальные вектор переходов и вектор наблюдений $X[1]$ и $X[0]$ соответсвенно."
   ]
  },
  {
   "cell_type": "code",
   "execution_count": 956,
   "metadata": {},
   "outputs": [],
   "source": [
    "model = hmm.MultinomialHMM(n_components=M)"
   ]
  },
  {
   "cell_type": "code",
   "execution_count": 957,
   "metadata": {},
   "outputs": [],
   "source": [
    "model.startprob_ = start"
   ]
  },
  {
   "cell_type": "code",
   "execution_count": 958,
   "metadata": {},
   "outputs": [],
   "source": [
    "model.transmat_ = states"
   ]
  },
  {
   "cell_type": "code",
   "execution_count": 959,
   "metadata": {},
   "outputs": [],
   "source": [
    "model.emissionprob_ = emis"
   ]
  },
  {
   "cell_type": "code",
   "execution_count": 960,
   "metadata": {},
   "outputs": [],
   "source": [
    "X=model.sample(L)"
   ]
  },
  {
   "cell_type": "code",
   "execution_count": 961,
   "metadata": {},
   "outputs": [
    {
     "data": {
      "text/plain": [
       "array([[0],\n",
       "       [5],\n",
       "       [4],\n",
       "       [2],\n",
       "       [0],\n",
       "       [0],\n",
       "       [0],\n",
       "       [4],\n",
       "       [5],\n",
       "       [1],\n",
       "       [4],\n",
       "       [4],\n",
       "       [4],\n",
       "       [3],\n",
       "       [1],\n",
       "       [1],\n",
       "       [2],\n",
       "       [5],\n",
       "       [5],\n",
       "       [5]], dtype=int64)"
      ]
     },
     "execution_count": 961,
     "metadata": {},
     "output_type": "execute_result"
    }
   ],
   "source": [
    "X[0]"
   ]
  },
  {
   "cell_type": "markdown",
   "metadata": {},
   "source": [
    "### Алгоритм Витерби"
   ]
  },
  {
   "cell_type": "markdown",
   "metadata": {},
   "source": [
    "для j = 0: $$MK[i, j] = emis[j, X[0][i]]\\cdot max(MK[i-1][1]\\cdot states[1,0], MK[i-1][0]\\cdot states[0, 0])$$\n",
    "для j = 1: $$MK[i, j] = emis[j, X[0][i]]\\cdot max(MK[i-1][0]\\cdot states[0,1], MK[i-1][1]\\cdot states[1, 1])$$\n",
    "$X[0]$ - сгенерированный вектор наблюдений\n",
    "\n",
    "$MK$ - матрица вероятностей для $j$-той кости(0 - честная, 1 - нечестная), $i$-того наблюдения (0:5)\n",
    "\n",
    "$emis$ - матрица наблюдений \n",
    "\n",
    "$states$ - матрица переходов"
   ]
  },
  {
   "cell_type": "code",
   "execution_count": 962,
   "metadata": {},
   "outputs": [],
   "source": [
    "MK = np.zeros((L, M))\n",
    "#MK1 = np.zeros((L, M))"
   ]
  },
  {
   "cell_type": "code",
   "execution_count": 963,
   "metadata": {},
   "outputs": [],
   "source": [
    "for j in range(M):\n",
    "    MK[0, j] = emis[j, X[0][0]]*start[j]\n",
    "    #MK1[0, j] = math.log2(emis[j, X[0][0]])+math.log2(start[j])"
   ]
  },
  {
   "cell_type": "code",
   "execution_count": 964,
   "metadata": {
    "scrolled": true
   },
   "outputs": [],
   "source": [
    "for i in range(1, L):\n",
    "    for j in range(M):\n",
    "        if j == 0:\n",
    "            MK[i, j] = emis[j, X[0][i]]*max(MK[i-1][1]*states[1,0], MK[i-1][0]*states[0, 0])\n",
    "            #MK1[i, j] = math.log2(emis[j, X[0][i]])+(max(MK1[i-1][1]+math.log2(states[1,0]), \n",
    "            #                                                      MK1[i-1][0]+math.log2(states[0, 0])))\n",
    "        if j == 1:\n",
    "            MK[i, j] =emis[j, X[0][i]]*max(MK[i-1][0]*states[0,1], MK[i-1][1]*states[1,1])\n",
    "            #MK1[i, j] = math.log2(emis[j, X[0][i]])+(max(MK1[i-1][0]+math.log2(states[0,1]), \n",
    "            #                                                      MK1[i-1][1]+math.log2(states[1, 1])))"
   ]
  },
  {
   "cell_type": "code",
   "execution_count": 965,
   "metadata": {},
   "outputs": [
    {
     "data": {
      "text/plain": [
       "array([[8.00000000e-02, 5.00000000e-02],\n",
       "       [1.21600000e-02, 2.25000000e-02],\n",
       "       [1.84832000e-03, 2.02500000e-03],\n",
       "       [2.80944640e-04, 1.82250000e-04],\n",
       "       [4.27035853e-05, 1.64025000e-05],\n",
       "       [6.49094496e-06, 1.47622500e-06],\n",
       "       [9.86623634e-07, 1.32860250e-07],\n",
       "       [1.49966792e-07, 1.19574225e-08],\n",
       "       [2.27949524e-08, 5.38084013e-09],\n",
       "       [3.46483277e-09, 4.84275611e-10],\n",
       "       [5.26654581e-10, 4.35848050e-11],\n",
       "       [8.00514964e-11, 3.92263245e-12],\n",
       "       [1.21678274e-11, 4.00257482e-13],\n",
       "       [1.84950977e-12, 6.08391372e-14],\n",
       "       [2.81125485e-13, 9.24754886e-15],\n",
       "       [4.27310738e-14, 1.40562743e-15],\n",
       "       [6.49512321e-15, 2.13655369e-16],\n",
       "       [9.87258728e-16, 1.62378080e-16],\n",
       "       [1.50063327e-16, 7.30701361e-17],\n",
       "       [2.28096257e-17, 3.28815613e-17]])"
      ]
     },
     "execution_count": 965,
     "metadata": {},
     "output_type": "execute_result"
    }
   ],
   "source": [
    "MK"
   ]
  },
  {
   "cell_type": "markdown",
   "metadata": {},
   "source": [
    "Можно сравнить то, что мы получили из Витерби с сгенерированным и с предсказанием питоновского модуля"
   ]
  },
  {
   "cell_type": "code",
   "execution_count": 966,
   "metadata": {},
   "outputs": [
    {
     "data": {
      "text/plain": [
       "array([0, 0, 0, 0, 0, 0, 0, 0, 0, 0, 0, 0, 0, 0, 0, 0, 0, 0, 0, 0])"
      ]
     },
     "execution_count": 966,
     "metadata": {},
     "output_type": "execute_result"
    }
   ],
   "source": [
    "X[1]"
   ]
  },
  {
   "cell_type": "code",
   "execution_count": 967,
   "metadata": {},
   "outputs": [
    {
     "data": {
      "text/plain": [
       "array([0, 1, 1, 0, 0, 0, 0, 0, 0, 0, 0, 0, 0, 0, 0, 0, 0, 0, 0, 1],\n",
       "      dtype=int64)"
      ]
     },
     "execution_count": 967,
     "metadata": {},
     "output_type": "execute_result"
    }
   ],
   "source": [
    "myvit = np.argmax(MK, axis = 1)\n",
    "myvit"
   ]
  },
  {
   "cell_type": "code",
   "execution_count": 968,
   "metadata": {},
   "outputs": [
    {
     "data": {
      "text/plain": [
       "array([0, 0, 0, 0, 0, 0, 0, 0, 0, 0, 0, 0, 0, 0, 0, 0, 0, 1, 1, 1])"
      ]
     },
     "execution_count": 968,
     "metadata": {},
     "output_type": "execute_result"
    }
   ],
   "source": [
    "model.decode(X[0])[1]"
   ]
  },
  {
   "cell_type": "markdown",
   "metadata": {},
   "source": [
    "### Алгоритм прямого хода"
   ]
  },
  {
   "cell_type": "markdown",
   "metadata": {},
   "source": [
    "для j = 0: $$PU[i, j] = PU[i-1][j]\\cdot states[j,j]\\cdot emis[j, X[0][i-1]]+PU[i-1][1]\\cdot states[1,j]\\cdot emis[j, X[0][i-1]]$$\n",
    "для j = 1: $$PU[i, j] = PU[i-1][j]\\cdot states[j,j]\\cdot emis[j, X[0][i-1]]+PU[i-1][0]\\cdot states[0,j]\\cdot emis[j, X[0][i-1]]$$\n",
    "$X[0]$ - сгенерированный вектор наблюдений\n",
    "\n",
    "$PU$ - матрица вероятностей алгоритма прямого хода для $j$-той кости(0 - честная, 1 - нечестная), $i$-того наблюдения (0:5)\n",
    "\n",
    "$emis$ - матрица наблюдений \n",
    "\n",
    "$states$ - матрица переходов\n"
   ]
  },
  {
   "cell_type": "code",
   "execution_count": 969,
   "metadata": {},
   "outputs": [],
   "source": [
    "PU = np.zeros((L+1, M))\n",
    "#PU1 = np.zeros((L+1, M))\n",
    "PU[0] = start\n",
    "#PU1[0][0] = math.log2(start[0])\n",
    "#PU1[0][1] = math.log2(start[1])"
   ]
  },
  {
   "cell_type": "code",
   "execution_count": 970,
   "metadata": {},
   "outputs": [],
   "source": [
    "for j in range(M):\n",
    "    PU[1, j] = emis[j, X[1][0]]*start[j]\n",
    "    #PU1[1, j] = math.log2(emis[j, X[1][0]]) + math.log2(start[j])"
   ]
  },
  {
   "cell_type": "code",
   "execution_count": 971,
   "metadata": {},
   "outputs": [],
   "source": [
    "for i in range(2, L+1):\n",
    "    for j in range(M):\n",
    "            if j == 0:\n",
    "                PU[i, j] = PU[i-1][j]*states[j,j]*emis[j, X[0][i-1]]+PU[i-1][1]*states[1,j]*emis[j, X[0][i-1]]\n",
    "                #PU1[i, j] = PU1[i-1][j]+math.log2(states[j,j]) + math.log2(emis[j, X[0][i-1]]) \n",
    "                #+ PU1[i-1][1] + math.log2(states[1,j]) + math.log2(emis[j, X[0][i-1]])\n",
    "            if j == 1:\n",
    "                PU[i, j] = PU[i-1][j]*states[j,j]*emis[j, X[0][i-1]]+PU[i-1][0]*states[0,j]*emis[j, X[0][i-1]]\n",
    "                #PU1[i, j] = PU1[i-1][j]+math.log2(states[j,j]) + math.log2(emis[j, X[0][i-1]]) \n",
    "                #+ PU1[i-1][1] + math.log2(states[0,j]) + math.log2(emis[j, X[0][i-1]])"
   ]
  },
  {
   "cell_type": "markdown",
   "metadata": {},
   "source": [
    "### Алгоритм обратного хода"
   ]
  },
  {
   "cell_type": "markdown",
   "metadata": {},
   "source": [
    "для j = 0: $$PU_b[i, j] = PU_b[i+1][j]\\cdot states[j,j]\\cdot emis[j, X[0][i]] + PU_b[i+1][1]\\cdot states[j, 1]\\cdot emis[j, X[0][i]]$$\n",
    "для j = 1: $$PU_b[i, j] = PU_b[i+1][j]\\cdot states[j,j]\\cdot emis[j, X[0][i]] + PU_b[i+1][0]\\cdot states[j, 0]\\cdot emis[j, X[0][i]]$$\n",
    "$X[0]$ - сгенерированный вектор наблюдений\n",
    "\n",
    "$PU_b$ - матрица вероятностей алгоритма обратного хода для $j$-той кости(0 - честная, 1 - нечестная), $i$-того наблюдения (0:5)\n",
    "\n",
    "$emis$ - матрица наблюдений \n",
    "\n",
    "$states$ - матрица переходов"
   ]
  },
  {
   "cell_type": "code",
   "execution_count": 972,
   "metadata": {},
   "outputs": [],
   "source": [
    "PU_b = np.zeros((L+1, M))\n",
    "#PU_b1 = np.zeros((L+1, M))"
   ]
  },
  {
   "cell_type": "code",
   "execution_count": 973,
   "metadata": {},
   "outputs": [],
   "source": [
    "for j in range(M):\n",
    "    PU_b[L, j] = 1\n",
    "   # PU_b1[L, j] = math.log2(1)"
   ]
  },
  {
   "cell_type": "code",
   "execution_count": 974,
   "metadata": {},
   "outputs": [],
   "source": [
    "for i in range(L-1,-1,-1):\n",
    "    for j in range(M):\n",
    "            if j == 0:\n",
    "                PU_b[i, j] = PU_b[i+1][j]*states[j,j]*emis[j, X[0][i]] + PU_b[i+1][1]*states[j, 1]*emis[j, X[0][i]]\n",
    "               # PU_b1[i, j] = PU_b1[i+1][j] + math.log2(states[j,j]) + math.log2(emis[j, X[0][i]])\n",
    "               # + PU_b1[i+1][1] + math.log2(states[j, 1]) + math.log2(emis[j, X[0][i]])\n",
    "            if j == 1:\n",
    "                PU_b[i, j] = PU_b[i+1][j]*states[j,j]*emis[j, X[0][i]] + PU_b[i+1][0]*states[j, 0]*emis[j, X[0][i]]\n",
    "               # PU_b1[i, j] = PU_b1[i+1][j] + math.log2(states[j,j]) + math.log2(emis[j, X[0][i]])\n",
    "               # +PU_b1[i+1][1] + math.log2(states[j, 0]) + math.log2(emis[j, X[0][i]])"
   ]
  },
  {
   "cell_type": "markdown",
   "metadata": {},
   "source": [
    "Вероятность существования цепочки по алгоритму прямого хода"
   ]
  },
  {
   "cell_type": "code",
   "execution_count": 975,
   "metadata": {},
   "outputs": [
    {
     "data": {
      "text/plain": [
       "2.416240380842557e-16"
      ]
     },
     "execution_count": 975,
     "metadata": {},
     "output_type": "execute_result"
    }
   ],
   "source": [
    "sum(PU[-1])"
   ]
  },
  {
   "cell_type": "markdown",
   "metadata": {},
   "source": [
    "Вероятность существования цепочки по алгоритму обратного хода"
   ]
  },
  {
   "cell_type": "code",
   "execution_count": 976,
   "metadata": {},
   "outputs": [
    {
     "data": {
      "text/plain": [
       "2.4162403808425586e-16"
      ]
     },
     "execution_count": 976,
     "metadata": {},
     "output_type": "execute_result"
    }
   ],
   "source": [
    "sum(PU_b[0]*start)"
   ]
  },
  {
   "cell_type": "markdown",
   "metadata": {},
   "source": [
    "Всё верно, так как эти вероятности должны быть равны"
   ]
  },
  {
   "cell_type": "markdown",
   "metadata": {},
   "source": [
    "### Апостериорное распределение"
   ]
  },
  {
   "cell_type": "markdown",
   "metadata": {},
   "source": [
    "Матрица апостериорного распределения $Pd$"
   ]
  },
  {
   "cell_type": "code",
   "execution_count": 977,
   "metadata": {},
   "outputs": [],
   "source": [
    "Pd = np.zeros((L, M))"
   ]
  },
  {
   "cell_type": "code",
   "execution_count": 978,
   "metadata": {},
   "outputs": [],
   "source": [
    "for i in range(L):\n",
    "    for j in range(M):\n",
    "        Pd[i, j] = (PU[i,j]*PU_b[i,j])/sum(PU[-1])"
   ]
  },
  {
   "cell_type": "code",
   "execution_count": 979,
   "metadata": {},
   "outputs": [
    {
     "data": {
      "text/plain": [
       "array([[0.64224935, 0.35775065],\n",
       "       [0.64635808, 0.35261474],\n",
       "       [0.6821812 , 0.24066747],\n",
       "       [0.80909379, 0.1613471 ],\n",
       "       [0.87965027, 0.11724931],\n",
       "       [0.91545337, 0.09487236],\n",
       "       [0.92746517, 0.08736499],\n",
       "       [0.9193634 , 0.0924286 ],\n",
       "       [0.88866749, 0.11161354],\n",
       "       [0.88984686, 0.10792801],\n",
       "       [0.92610004, 0.08526977],\n",
       "       [0.93994162, 0.07661878],\n",
       "       [0.93560957, 0.07932631],\n",
       "       [0.91177751, 0.09422135],\n",
       "       [0.86114863, 0.1258644 ],\n",
       "       [0.76822155, 0.18394382],\n",
       "       [0.6045442 , 0.28624217],\n",
       "       [0.3200024 , 0.46408079],\n",
       "       [0.22528498, 0.76007274],\n",
       "       [0.20181608, 0.83341304]])"
      ]
     },
     "execution_count": 979,
     "metadata": {},
     "output_type": "execute_result"
    }
   ],
   "source": [
    "Pd"
   ]
  },
  {
   "cell_type": "code",
   "execution_count": 980,
   "metadata": {},
   "outputs": [
    {
     "data": {
      "text/plain": [
       "array([[0.64224935, 0.35775065],\n",
       "       [0.65443755, 0.34556245],\n",
       "       [0.77703387, 0.22296613],\n",
       "       [0.84639284, 0.15360716],\n",
       "       [0.88375054, 0.11624946],\n",
       "       [0.90054503, 0.09945497],\n",
       "       [0.90191839, 0.09808161],\n",
       "       [0.8882911 , 0.1117089 ],\n",
       "       [0.85549082, 0.14450918],\n",
       "       [0.89272849, 0.10727151],\n",
       "       [0.91032376, 0.08967624],\n",
       "       [0.91366388, 0.08633612],\n",
       "       [0.90377153, 0.09622847],\n",
       "       [0.87761789, 0.12238211],\n",
       "       [0.82719535, 0.17280465],\n",
       "       [0.73706569, 0.26293431],\n",
       "       [0.57963334, 0.42036666],\n",
       "       [0.30669623, 0.69330377],\n",
       "       [0.22325904, 0.77674096],\n",
       "       [0.2183945 , 0.7816055 ]])"
      ]
     },
     "execution_count": 980,
     "metadata": {},
     "output_type": "execute_result"
    }
   ],
   "source": [
    "model.predict_proba(X[0])"
   ]
  },
  {
   "cell_type": "markdown",
   "metadata": {},
   "source": [
    "   Стоит отметить, что моё апостериорное распределение равно с небольшой погрешностью апостеорному распределение питоновского модуля.\n",
    "   \n",
    "   Так же стоит отметить, что точность теряется из-за того, что я не стал применять логарифмирование."
   ]
  },
  {
   "cell_type": "markdown",
   "metadata": {},
   "source": [
    "Небольшая фун-ция для подсчёта ошибок"
   ]
  },
  {
   "cell_type": "code",
   "execution_count": 981,
   "metadata": {},
   "outputs": [],
   "source": [
    "fal = 0\n",
    "fal1 = 0\n",
    "fal2 = 0\n",
    "fal3 = 0\n",
    "for i in range(L):\n",
    "    if X[1][i]!=model.predict(X[0])[i]:\n",
    "        fal +=1\n",
    "    if X[1][i]!=np.argmax(model.predict_proba(X[0]), axis = 1)[i]:\n",
    "        fal1 +=1\n",
    "    if X[1][i]!=myvit[i]:\n",
    "        fal2 +=1\n",
    "    if X[1][i]!=np.argmax(Pd, axis=1)[i]:\n",
    "        fal3 +=1"
   ]
  },
  {
   "cell_type": "code",
   "execution_count": 982,
   "metadata": {},
   "outputs": [
    {
     "name": "stdout",
     "output_type": "stream",
     "text": [
      "Процент ошибок в алгоритме питоновского модуля 0.15\n",
      "Процент ошибок в апостериорном распределении питоновского модуля 0.15\n",
      "Процент ошибок в моём алгоритме Витерби 0.15\n",
      "Процент ошибок в моём апостериорном распределении 0.15\n"
     ]
    }
   ],
   "source": [
    "print(\"Процент ошибок в алгоритме питоновского модуля\",fal/L)\n",
    "print(\"Процент ошибок в апостериорном распределении питоновского модуля\",fal1/L)\n",
    "print(\"Процент ошибок в моём алгоритме Витерби\", fal2/L)\n",
    "print(\"Процент ошибок в моём апостериорном распределении\", fal3/L)"
   ]
  },
  {
   "cell_type": "code",
   "execution_count": 983,
   "metadata": {},
   "outputs": [
    {
     "data": {
      "application/javascript": [
       "/* Put everything inside the global mpl namespace */\n",
       "window.mpl = {};\n",
       "\n",
       "\n",
       "mpl.get_websocket_type = function() {\n",
       "    if (typeof(WebSocket) !== 'undefined') {\n",
       "        return WebSocket;\n",
       "    } else if (typeof(MozWebSocket) !== 'undefined') {\n",
       "        return MozWebSocket;\n",
       "    } else {\n",
       "        alert('Your browser does not have WebSocket support.' +\n",
       "              'Please try Chrome, Safari or Firefox ≥ 6. ' +\n",
       "              'Firefox 4 and 5 are also supported but you ' +\n",
       "              'have to enable WebSockets in about:config.');\n",
       "    };\n",
       "}\n",
       "\n",
       "mpl.figure = function(figure_id, websocket, ondownload, parent_element) {\n",
       "    this.id = figure_id;\n",
       "\n",
       "    this.ws = websocket;\n",
       "\n",
       "    this.supports_binary = (this.ws.binaryType != undefined);\n",
       "\n",
       "    if (!this.supports_binary) {\n",
       "        var warnings = document.getElementById(\"mpl-warnings\");\n",
       "        if (warnings) {\n",
       "            warnings.style.display = 'block';\n",
       "            warnings.textContent = (\n",
       "                \"This browser does not support binary websocket messages. \" +\n",
       "                    \"Performance may be slow.\");\n",
       "        }\n",
       "    }\n",
       "\n",
       "    this.imageObj = new Image();\n",
       "\n",
       "    this.context = undefined;\n",
       "    this.message = undefined;\n",
       "    this.canvas = undefined;\n",
       "    this.rubberband_canvas = undefined;\n",
       "    this.rubberband_context = undefined;\n",
       "    this.format_dropdown = undefined;\n",
       "\n",
       "    this.image_mode = 'full';\n",
       "\n",
       "    this.root = $('<div/>');\n",
       "    this._root_extra_style(this.root)\n",
       "    this.root.attr('style', 'display: inline-block');\n",
       "\n",
       "    $(parent_element).append(this.root);\n",
       "\n",
       "    this._init_header(this);\n",
       "    this._init_canvas(this);\n",
       "    this._init_toolbar(this);\n",
       "\n",
       "    var fig = this;\n",
       "\n",
       "    this.waiting = false;\n",
       "\n",
       "    this.ws.onopen =  function () {\n",
       "            fig.send_message(\"supports_binary\", {value: fig.supports_binary});\n",
       "            fig.send_message(\"send_image_mode\", {});\n",
       "            if (mpl.ratio != 1) {\n",
       "                fig.send_message(\"set_dpi_ratio\", {'dpi_ratio': mpl.ratio});\n",
       "            }\n",
       "            fig.send_message(\"refresh\", {});\n",
       "        }\n",
       "\n",
       "    this.imageObj.onload = function() {\n",
       "            if (fig.image_mode == 'full') {\n",
       "                // Full images could contain transparency (where diff images\n",
       "                // almost always do), so we need to clear the canvas so that\n",
       "                // there is no ghosting.\n",
       "                fig.context.clearRect(0, 0, fig.canvas.width, fig.canvas.height);\n",
       "            }\n",
       "            fig.context.drawImage(fig.imageObj, 0, 0);\n",
       "        };\n",
       "\n",
       "    this.imageObj.onunload = function() {\n",
       "        fig.ws.close();\n",
       "    }\n",
       "\n",
       "    this.ws.onmessage = this._make_on_message_function(this);\n",
       "\n",
       "    this.ondownload = ondownload;\n",
       "}\n",
       "\n",
       "mpl.figure.prototype._init_header = function() {\n",
       "    var titlebar = $(\n",
       "        '<div class=\"ui-dialog-titlebar ui-widget-header ui-corner-all ' +\n",
       "        'ui-helper-clearfix\"/>');\n",
       "    var titletext = $(\n",
       "        '<div class=\"ui-dialog-title\" style=\"width: 100%; ' +\n",
       "        'text-align: center; padding: 3px;\"/>');\n",
       "    titlebar.append(titletext)\n",
       "    this.root.append(titlebar);\n",
       "    this.header = titletext[0];\n",
       "}\n",
       "\n",
       "\n",
       "\n",
       "mpl.figure.prototype._canvas_extra_style = function(canvas_div) {\n",
       "\n",
       "}\n",
       "\n",
       "\n",
       "mpl.figure.prototype._root_extra_style = function(canvas_div) {\n",
       "\n",
       "}\n",
       "\n",
       "mpl.figure.prototype._init_canvas = function() {\n",
       "    var fig = this;\n",
       "\n",
       "    var canvas_div = $('<div/>');\n",
       "\n",
       "    canvas_div.attr('style', 'position: relative; clear: both; outline: 0');\n",
       "\n",
       "    function canvas_keyboard_event(event) {\n",
       "        return fig.key_event(event, event['data']);\n",
       "    }\n",
       "\n",
       "    canvas_div.keydown('key_press', canvas_keyboard_event);\n",
       "    canvas_div.keyup('key_release', canvas_keyboard_event);\n",
       "    this.canvas_div = canvas_div\n",
       "    this._canvas_extra_style(canvas_div)\n",
       "    this.root.append(canvas_div);\n",
       "\n",
       "    var canvas = $('<canvas/>');\n",
       "    canvas.addClass('mpl-canvas');\n",
       "    canvas.attr('style', \"left: 0; top: 0; z-index: 0; outline: 0\")\n",
       "\n",
       "    this.canvas = canvas[0];\n",
       "    this.context = canvas[0].getContext(\"2d\");\n",
       "\n",
       "    var backingStore = this.context.backingStorePixelRatio ||\n",
       "\tthis.context.webkitBackingStorePixelRatio ||\n",
       "\tthis.context.mozBackingStorePixelRatio ||\n",
       "\tthis.context.msBackingStorePixelRatio ||\n",
       "\tthis.context.oBackingStorePixelRatio ||\n",
       "\tthis.context.backingStorePixelRatio || 1;\n",
       "\n",
       "    mpl.ratio = (window.devicePixelRatio || 1) / backingStore;\n",
       "\n",
       "    var rubberband = $('<canvas/>');\n",
       "    rubberband.attr('style', \"position: absolute; left: 0; top: 0; z-index: 1;\")\n",
       "\n",
       "    var pass_mouse_events = true;\n",
       "\n",
       "    canvas_div.resizable({\n",
       "        start: function(event, ui) {\n",
       "            pass_mouse_events = false;\n",
       "        },\n",
       "        resize: function(event, ui) {\n",
       "            fig.request_resize(ui.size.width, ui.size.height);\n",
       "        },\n",
       "        stop: function(event, ui) {\n",
       "            pass_mouse_events = true;\n",
       "            fig.request_resize(ui.size.width, ui.size.height);\n",
       "        },\n",
       "    });\n",
       "\n",
       "    function mouse_event_fn(event) {\n",
       "        if (pass_mouse_events)\n",
       "            return fig.mouse_event(event, event['data']);\n",
       "    }\n",
       "\n",
       "    rubberband.mousedown('button_press', mouse_event_fn);\n",
       "    rubberband.mouseup('button_release', mouse_event_fn);\n",
       "    // Throttle sequential mouse events to 1 every 20ms.\n",
       "    rubberband.mousemove('motion_notify', mouse_event_fn);\n",
       "\n",
       "    rubberband.mouseenter('figure_enter', mouse_event_fn);\n",
       "    rubberband.mouseleave('figure_leave', mouse_event_fn);\n",
       "\n",
       "    canvas_div.on(\"wheel\", function (event) {\n",
       "        event = event.originalEvent;\n",
       "        event['data'] = 'scroll'\n",
       "        if (event.deltaY < 0) {\n",
       "            event.step = 1;\n",
       "        } else {\n",
       "            event.step = -1;\n",
       "        }\n",
       "        mouse_event_fn(event);\n",
       "    });\n",
       "\n",
       "    canvas_div.append(canvas);\n",
       "    canvas_div.append(rubberband);\n",
       "\n",
       "    this.rubberband = rubberband;\n",
       "    this.rubberband_canvas = rubberband[0];\n",
       "    this.rubberband_context = rubberband[0].getContext(\"2d\");\n",
       "    this.rubberband_context.strokeStyle = \"#000000\";\n",
       "\n",
       "    this._resize_canvas = function(width, height) {\n",
       "        // Keep the size of the canvas, canvas container, and rubber band\n",
       "        // canvas in synch.\n",
       "        canvas_div.css('width', width)\n",
       "        canvas_div.css('height', height)\n",
       "\n",
       "        canvas.attr('width', width * mpl.ratio);\n",
       "        canvas.attr('height', height * mpl.ratio);\n",
       "        canvas.attr('style', 'width: ' + width + 'px; height: ' + height + 'px;');\n",
       "\n",
       "        rubberband.attr('width', width);\n",
       "        rubberband.attr('height', height);\n",
       "    }\n",
       "\n",
       "    // Set the figure to an initial 600x600px, this will subsequently be updated\n",
       "    // upon first draw.\n",
       "    this._resize_canvas(600, 600);\n",
       "\n",
       "    // Disable right mouse context menu.\n",
       "    $(this.rubberband_canvas).bind(\"contextmenu\",function(e){\n",
       "        return false;\n",
       "    });\n",
       "\n",
       "    function set_focus () {\n",
       "        canvas.focus();\n",
       "        canvas_div.focus();\n",
       "    }\n",
       "\n",
       "    window.setTimeout(set_focus, 100);\n",
       "}\n",
       "\n",
       "mpl.figure.prototype._init_toolbar = function() {\n",
       "    var fig = this;\n",
       "\n",
       "    var nav_element = $('<div/>')\n",
       "    nav_element.attr('style', 'width: 100%');\n",
       "    this.root.append(nav_element);\n",
       "\n",
       "    // Define a callback function for later on.\n",
       "    function toolbar_event(event) {\n",
       "        return fig.toolbar_button_onclick(event['data']);\n",
       "    }\n",
       "    function toolbar_mouse_event(event) {\n",
       "        return fig.toolbar_button_onmouseover(event['data']);\n",
       "    }\n",
       "\n",
       "    for(var toolbar_ind in mpl.toolbar_items) {\n",
       "        var name = mpl.toolbar_items[toolbar_ind][0];\n",
       "        var tooltip = mpl.toolbar_items[toolbar_ind][1];\n",
       "        var image = mpl.toolbar_items[toolbar_ind][2];\n",
       "        var method_name = mpl.toolbar_items[toolbar_ind][3];\n",
       "\n",
       "        if (!name) {\n",
       "            // put a spacer in here.\n",
       "            continue;\n",
       "        }\n",
       "        var button = $('<button/>');\n",
       "        button.addClass('ui-button ui-widget ui-state-default ui-corner-all ' +\n",
       "                        'ui-button-icon-only');\n",
       "        button.attr('role', 'button');\n",
       "        button.attr('aria-disabled', 'false');\n",
       "        button.click(method_name, toolbar_event);\n",
       "        button.mouseover(tooltip, toolbar_mouse_event);\n",
       "\n",
       "        var icon_img = $('<span/>');\n",
       "        icon_img.addClass('ui-button-icon-primary ui-icon');\n",
       "        icon_img.addClass(image);\n",
       "        icon_img.addClass('ui-corner-all');\n",
       "\n",
       "        var tooltip_span = $('<span/>');\n",
       "        tooltip_span.addClass('ui-button-text');\n",
       "        tooltip_span.html(tooltip);\n",
       "\n",
       "        button.append(icon_img);\n",
       "        button.append(tooltip_span);\n",
       "\n",
       "        nav_element.append(button);\n",
       "    }\n",
       "\n",
       "    var fmt_picker_span = $('<span/>');\n",
       "\n",
       "    var fmt_picker = $('<select/>');\n",
       "    fmt_picker.addClass('mpl-toolbar-option ui-widget ui-widget-content');\n",
       "    fmt_picker_span.append(fmt_picker);\n",
       "    nav_element.append(fmt_picker_span);\n",
       "    this.format_dropdown = fmt_picker[0];\n",
       "\n",
       "    for (var ind in mpl.extensions) {\n",
       "        var fmt = mpl.extensions[ind];\n",
       "        var option = $(\n",
       "            '<option/>', {selected: fmt === mpl.default_extension}).html(fmt);\n",
       "        fmt_picker.append(option)\n",
       "    }\n",
       "\n",
       "    // Add hover states to the ui-buttons\n",
       "    $( \".ui-button\" ).hover(\n",
       "        function() { $(this).addClass(\"ui-state-hover\");},\n",
       "        function() { $(this).removeClass(\"ui-state-hover\");}\n",
       "    );\n",
       "\n",
       "    var status_bar = $('<span class=\"mpl-message\"/>');\n",
       "    nav_element.append(status_bar);\n",
       "    this.message = status_bar[0];\n",
       "}\n",
       "\n",
       "mpl.figure.prototype.request_resize = function(x_pixels, y_pixels) {\n",
       "    // Request matplotlib to resize the figure. Matplotlib will then trigger a resize in the client,\n",
       "    // which will in turn request a refresh of the image.\n",
       "    this.send_message('resize', {'width': x_pixels, 'height': y_pixels});\n",
       "}\n",
       "\n",
       "mpl.figure.prototype.send_message = function(type, properties) {\n",
       "    properties['type'] = type;\n",
       "    properties['figure_id'] = this.id;\n",
       "    this.ws.send(JSON.stringify(properties));\n",
       "}\n",
       "\n",
       "mpl.figure.prototype.send_draw_message = function() {\n",
       "    if (!this.waiting) {\n",
       "        this.waiting = true;\n",
       "        this.ws.send(JSON.stringify({type: \"draw\", figure_id: this.id}));\n",
       "    }\n",
       "}\n",
       "\n",
       "\n",
       "mpl.figure.prototype.handle_save = function(fig, msg) {\n",
       "    var format_dropdown = fig.format_dropdown;\n",
       "    var format = format_dropdown.options[format_dropdown.selectedIndex].value;\n",
       "    fig.ondownload(fig, format);\n",
       "}\n",
       "\n",
       "\n",
       "mpl.figure.prototype.handle_resize = function(fig, msg) {\n",
       "    var size = msg['size'];\n",
       "    if (size[0] != fig.canvas.width || size[1] != fig.canvas.height) {\n",
       "        fig._resize_canvas(size[0], size[1]);\n",
       "        fig.send_message(\"refresh\", {});\n",
       "    };\n",
       "}\n",
       "\n",
       "mpl.figure.prototype.handle_rubberband = function(fig, msg) {\n",
       "    var x0 = msg['x0'] / mpl.ratio;\n",
       "    var y0 = (fig.canvas.height - msg['y0']) / mpl.ratio;\n",
       "    var x1 = msg['x1'] / mpl.ratio;\n",
       "    var y1 = (fig.canvas.height - msg['y1']) / mpl.ratio;\n",
       "    x0 = Math.floor(x0) + 0.5;\n",
       "    y0 = Math.floor(y0) + 0.5;\n",
       "    x1 = Math.floor(x1) + 0.5;\n",
       "    y1 = Math.floor(y1) + 0.5;\n",
       "    var min_x = Math.min(x0, x1);\n",
       "    var min_y = Math.min(y0, y1);\n",
       "    var width = Math.abs(x1 - x0);\n",
       "    var height = Math.abs(y1 - y0);\n",
       "\n",
       "    fig.rubberband_context.clearRect(\n",
       "        0, 0, fig.canvas.width, fig.canvas.height);\n",
       "\n",
       "    fig.rubberband_context.strokeRect(min_x, min_y, width, height);\n",
       "}\n",
       "\n",
       "mpl.figure.prototype.handle_figure_label = function(fig, msg) {\n",
       "    // Updates the figure title.\n",
       "    fig.header.textContent = msg['label'];\n",
       "}\n",
       "\n",
       "mpl.figure.prototype.handle_cursor = function(fig, msg) {\n",
       "    var cursor = msg['cursor'];\n",
       "    switch(cursor)\n",
       "    {\n",
       "    case 0:\n",
       "        cursor = 'pointer';\n",
       "        break;\n",
       "    case 1:\n",
       "        cursor = 'default';\n",
       "        break;\n",
       "    case 2:\n",
       "        cursor = 'crosshair';\n",
       "        break;\n",
       "    case 3:\n",
       "        cursor = 'move';\n",
       "        break;\n",
       "    }\n",
       "    fig.rubberband_canvas.style.cursor = cursor;\n",
       "}\n",
       "\n",
       "mpl.figure.prototype.handle_message = function(fig, msg) {\n",
       "    fig.message.textContent = msg['message'];\n",
       "}\n",
       "\n",
       "mpl.figure.prototype.handle_draw = function(fig, msg) {\n",
       "    // Request the server to send over a new figure.\n",
       "    fig.send_draw_message();\n",
       "}\n",
       "\n",
       "mpl.figure.prototype.handle_image_mode = function(fig, msg) {\n",
       "    fig.image_mode = msg['mode'];\n",
       "}\n",
       "\n",
       "mpl.figure.prototype.updated_canvas_event = function() {\n",
       "    // Called whenever the canvas gets updated.\n",
       "    this.send_message(\"ack\", {});\n",
       "}\n",
       "\n",
       "// A function to construct a web socket function for onmessage handling.\n",
       "// Called in the figure constructor.\n",
       "mpl.figure.prototype._make_on_message_function = function(fig) {\n",
       "    return function socket_on_message(evt) {\n",
       "        if (evt.data instanceof Blob) {\n",
       "            /* FIXME: We get \"Resource interpreted as Image but\n",
       "             * transferred with MIME type text/plain:\" errors on\n",
       "             * Chrome.  But how to set the MIME type?  It doesn't seem\n",
       "             * to be part of the websocket stream */\n",
       "            evt.data.type = \"image/png\";\n",
       "\n",
       "            /* Free the memory for the previous frames */\n",
       "            if (fig.imageObj.src) {\n",
       "                (window.URL || window.webkitURL).revokeObjectURL(\n",
       "                    fig.imageObj.src);\n",
       "            }\n",
       "\n",
       "            fig.imageObj.src = (window.URL || window.webkitURL).createObjectURL(\n",
       "                evt.data);\n",
       "            fig.updated_canvas_event();\n",
       "            fig.waiting = false;\n",
       "            return;\n",
       "        }\n",
       "        else if (typeof evt.data === 'string' && evt.data.slice(0, 21) == \"data:image/png;base64\") {\n",
       "            fig.imageObj.src = evt.data;\n",
       "            fig.updated_canvas_event();\n",
       "            fig.waiting = false;\n",
       "            return;\n",
       "        }\n",
       "\n",
       "        var msg = JSON.parse(evt.data);\n",
       "        var msg_type = msg['type'];\n",
       "\n",
       "        // Call the  \"handle_{type}\" callback, which takes\n",
       "        // the figure and JSON message as its only arguments.\n",
       "        try {\n",
       "            var callback = fig[\"handle_\" + msg_type];\n",
       "        } catch (e) {\n",
       "            console.log(\"No handler for the '\" + msg_type + \"' message type: \", msg);\n",
       "            return;\n",
       "        }\n",
       "\n",
       "        if (callback) {\n",
       "            try {\n",
       "                // console.log(\"Handling '\" + msg_type + \"' message: \", msg);\n",
       "                callback(fig, msg);\n",
       "            } catch (e) {\n",
       "                console.log(\"Exception inside the 'handler_\" + msg_type + \"' callback:\", e, e.stack, msg);\n",
       "            }\n",
       "        }\n",
       "    };\n",
       "}\n",
       "\n",
       "// from http://stackoverflow.com/questions/1114465/getting-mouse-location-in-canvas\n",
       "mpl.findpos = function(e) {\n",
       "    //this section is from http://www.quirksmode.org/js/events_properties.html\n",
       "    var targ;\n",
       "    if (!e)\n",
       "        e = window.event;\n",
       "    if (e.target)\n",
       "        targ = e.target;\n",
       "    else if (e.srcElement)\n",
       "        targ = e.srcElement;\n",
       "    if (targ.nodeType == 3) // defeat Safari bug\n",
       "        targ = targ.parentNode;\n",
       "\n",
       "    // jQuery normalizes the pageX and pageY\n",
       "    // pageX,Y are the mouse positions relative to the document\n",
       "    // offset() returns the position of the element relative to the document\n",
       "    var x = e.pageX - $(targ).offset().left;\n",
       "    var y = e.pageY - $(targ).offset().top;\n",
       "\n",
       "    return {\"x\": x, \"y\": y};\n",
       "};\n",
       "\n",
       "/*\n",
       " * return a copy of an object with only non-object keys\n",
       " * we need this to avoid circular references\n",
       " * http://stackoverflow.com/a/24161582/3208463\n",
       " */\n",
       "function simpleKeys (original) {\n",
       "  return Object.keys(original).reduce(function (obj, key) {\n",
       "    if (typeof original[key] !== 'object')\n",
       "        obj[key] = original[key]\n",
       "    return obj;\n",
       "  }, {});\n",
       "}\n",
       "\n",
       "mpl.figure.prototype.mouse_event = function(event, name) {\n",
       "    var canvas_pos = mpl.findpos(event)\n",
       "\n",
       "    if (name === 'button_press')\n",
       "    {\n",
       "        this.canvas.focus();\n",
       "        this.canvas_div.focus();\n",
       "    }\n",
       "\n",
       "    var x = canvas_pos.x * mpl.ratio;\n",
       "    var y = canvas_pos.y * mpl.ratio;\n",
       "\n",
       "    this.send_message(name, {x: x, y: y, button: event.button,\n",
       "                             step: event.step,\n",
       "                             guiEvent: simpleKeys(event)});\n",
       "\n",
       "    /* This prevents the web browser from automatically changing to\n",
       "     * the text insertion cursor when the button is pressed.  We want\n",
       "     * to control all of the cursor setting manually through the\n",
       "     * 'cursor' event from matplotlib */\n",
       "    event.preventDefault();\n",
       "    return false;\n",
       "}\n",
       "\n",
       "mpl.figure.prototype._key_event_extra = function(event, name) {\n",
       "    // Handle any extra behaviour associated with a key event\n",
       "}\n",
       "\n",
       "mpl.figure.prototype.key_event = function(event, name) {\n",
       "\n",
       "    // Prevent repeat events\n",
       "    if (name == 'key_press')\n",
       "    {\n",
       "        if (event.which === this._key)\n",
       "            return;\n",
       "        else\n",
       "            this._key = event.which;\n",
       "    }\n",
       "    if (name == 'key_release')\n",
       "        this._key = null;\n",
       "\n",
       "    var value = '';\n",
       "    if (event.ctrlKey && event.which != 17)\n",
       "        value += \"ctrl+\";\n",
       "    if (event.altKey && event.which != 18)\n",
       "        value += \"alt+\";\n",
       "    if (event.shiftKey && event.which != 16)\n",
       "        value += \"shift+\";\n",
       "\n",
       "    value += 'k';\n",
       "    value += event.which.toString();\n",
       "\n",
       "    this._key_event_extra(event, name);\n",
       "\n",
       "    this.send_message(name, {key: value,\n",
       "                             guiEvent: simpleKeys(event)});\n",
       "    return false;\n",
       "}\n",
       "\n",
       "mpl.figure.prototype.toolbar_button_onclick = function(name) {\n",
       "    if (name == 'download') {\n",
       "        this.handle_save(this, null);\n",
       "    } else {\n",
       "        this.send_message(\"toolbar_button\", {name: name});\n",
       "    }\n",
       "};\n",
       "\n",
       "mpl.figure.prototype.toolbar_button_onmouseover = function(tooltip) {\n",
       "    this.message.textContent = tooltip;\n",
       "};\n",
       "mpl.toolbar_items = [[\"Home\", \"Reset original view\", \"fa fa-home icon-home\", \"home\"], [\"Back\", \"Back to  previous view\", \"fa fa-arrow-left icon-arrow-left\", \"back\"], [\"Forward\", \"Forward to next view\", \"fa fa-arrow-right icon-arrow-right\", \"forward\"], [\"\", \"\", \"\", \"\"], [\"Pan\", \"Pan axes with left mouse, zoom with right\", \"fa fa-arrows icon-move\", \"pan\"], [\"Zoom\", \"Zoom to rectangle\", \"fa fa-square-o icon-check-empty\", \"zoom\"], [\"\", \"\", \"\", \"\"], [\"Download\", \"Download plot\", \"fa fa-floppy-o icon-save\", \"download\"]];\n",
       "\n",
       "mpl.extensions = [\"eps\", \"jpeg\", \"pdf\", \"png\", \"ps\", \"raw\", \"svg\", \"tif\"];\n",
       "\n",
       "mpl.default_extension = \"png\";var comm_websocket_adapter = function(comm) {\n",
       "    // Create a \"websocket\"-like object which calls the given IPython comm\n",
       "    // object with the appropriate methods. Currently this is a non binary\n",
       "    // socket, so there is still some room for performance tuning.\n",
       "    var ws = {};\n",
       "\n",
       "    ws.close = function() {\n",
       "        comm.close()\n",
       "    };\n",
       "    ws.send = function(m) {\n",
       "        //console.log('sending', m);\n",
       "        comm.send(m);\n",
       "    };\n",
       "    // Register the callback with on_msg.\n",
       "    comm.on_msg(function(msg) {\n",
       "        //console.log('receiving', msg['content']['data'], msg);\n",
       "        // Pass the mpl event to the overridden (by mpl) onmessage function.\n",
       "        ws.onmessage(msg['content']['data'])\n",
       "    });\n",
       "    return ws;\n",
       "}\n",
       "\n",
       "mpl.mpl_figure_comm = function(comm, msg) {\n",
       "    // This is the function which gets called when the mpl process\n",
       "    // starts-up an IPython Comm through the \"matplotlib\" channel.\n",
       "\n",
       "    var id = msg.content.data.id;\n",
       "    // Get hold of the div created by the display call when the Comm\n",
       "    // socket was opened in Python.\n",
       "    var element = $(\"#\" + id);\n",
       "    var ws_proxy = comm_websocket_adapter(comm)\n",
       "\n",
       "    function ondownload(figure, format) {\n",
       "        window.open(figure.imageObj.src);\n",
       "    }\n",
       "\n",
       "    var fig = new mpl.figure(id, ws_proxy,\n",
       "                           ondownload,\n",
       "                           element.get(0));\n",
       "\n",
       "    // Call onopen now - mpl needs it, as it is assuming we've passed it a real\n",
       "    // web socket which is closed, not our websocket->open comm proxy.\n",
       "    ws_proxy.onopen();\n",
       "\n",
       "    fig.parent_element = element.get(0);\n",
       "    fig.cell_info = mpl.find_output_cell(\"<div id='\" + id + \"'></div>\");\n",
       "    if (!fig.cell_info) {\n",
       "        console.error(\"Failed to find cell for figure\", id, fig);\n",
       "        return;\n",
       "    }\n",
       "\n",
       "    var output_index = fig.cell_info[2]\n",
       "    var cell = fig.cell_info[0];\n",
       "\n",
       "};\n",
       "\n",
       "mpl.figure.prototype.handle_close = function(fig, msg) {\n",
       "    var width = fig.canvas.width/mpl.ratio\n",
       "    fig.root.unbind('remove')\n",
       "\n",
       "    // Update the output cell to use the data from the current canvas.\n",
       "    fig.push_to_output();\n",
       "    var dataURL = fig.canvas.toDataURL();\n",
       "    // Re-enable the keyboard manager in IPython - without this line, in FF,\n",
       "    // the notebook keyboard shortcuts fail.\n",
       "    IPython.keyboard_manager.enable()\n",
       "    $(fig.parent_element).html('<img src=\"' + dataURL + '\" width=\"' + width + '\">');\n",
       "    fig.close_ws(fig, msg);\n",
       "}\n",
       "\n",
       "mpl.figure.prototype.close_ws = function(fig, msg){\n",
       "    fig.send_message('closing', msg);\n",
       "    // fig.ws.close()\n",
       "}\n",
       "\n",
       "mpl.figure.prototype.push_to_output = function(remove_interactive) {\n",
       "    // Turn the data on the canvas into data in the output cell.\n",
       "    var width = this.canvas.width/mpl.ratio\n",
       "    var dataURL = this.canvas.toDataURL();\n",
       "    this.cell_info[1]['text/html'] = '<img src=\"' + dataURL + '\" width=\"' + width + '\">';\n",
       "}\n",
       "\n",
       "mpl.figure.prototype.updated_canvas_event = function() {\n",
       "    // Tell IPython that the notebook contents must change.\n",
       "    IPython.notebook.set_dirty(true);\n",
       "    this.send_message(\"ack\", {});\n",
       "    var fig = this;\n",
       "    // Wait a second, then push the new image to the DOM so\n",
       "    // that it is saved nicely (might be nice to debounce this).\n",
       "    setTimeout(function () { fig.push_to_output() }, 1000);\n",
       "}\n",
       "\n",
       "mpl.figure.prototype._init_toolbar = function() {\n",
       "    var fig = this;\n",
       "\n",
       "    var nav_element = $('<div/>')\n",
       "    nav_element.attr('style', 'width: 100%');\n",
       "    this.root.append(nav_element);\n",
       "\n",
       "    // Define a callback function for later on.\n",
       "    function toolbar_event(event) {\n",
       "        return fig.toolbar_button_onclick(event['data']);\n",
       "    }\n",
       "    function toolbar_mouse_event(event) {\n",
       "        return fig.toolbar_button_onmouseover(event['data']);\n",
       "    }\n",
       "\n",
       "    for(var toolbar_ind in mpl.toolbar_items){\n",
       "        var name = mpl.toolbar_items[toolbar_ind][0];\n",
       "        var tooltip = mpl.toolbar_items[toolbar_ind][1];\n",
       "        var image = mpl.toolbar_items[toolbar_ind][2];\n",
       "        var method_name = mpl.toolbar_items[toolbar_ind][3];\n",
       "\n",
       "        if (!name) { continue; };\n",
       "\n",
       "        var button = $('<button class=\"btn btn-default\" href=\"#\" title=\"' + name + '\"><i class=\"fa ' + image + ' fa-lg\"></i></button>');\n",
       "        button.click(method_name, toolbar_event);\n",
       "        button.mouseover(tooltip, toolbar_mouse_event);\n",
       "        nav_element.append(button);\n",
       "    }\n",
       "\n",
       "    // Add the status bar.\n",
       "    var status_bar = $('<span class=\"mpl-message\" style=\"text-align:right; float: right;\"/>');\n",
       "    nav_element.append(status_bar);\n",
       "    this.message = status_bar[0];\n",
       "\n",
       "    // Add the close button to the window.\n",
       "    var buttongrp = $('<div class=\"btn-group inline pull-right\"></div>');\n",
       "    var button = $('<button class=\"btn btn-mini btn-primary\" href=\"#\" title=\"Stop Interaction\"><i class=\"fa fa-power-off icon-remove icon-large\"></i></button>');\n",
       "    button.click(function (evt) { fig.handle_close(fig, {}); } );\n",
       "    button.mouseover('Stop Interaction', toolbar_mouse_event);\n",
       "    buttongrp.append(button);\n",
       "    var titlebar = this.root.find($('.ui-dialog-titlebar'));\n",
       "    titlebar.prepend(buttongrp);\n",
       "}\n",
       "\n",
       "mpl.figure.prototype._root_extra_style = function(el){\n",
       "    var fig = this\n",
       "    el.on(\"remove\", function(){\n",
       "\tfig.close_ws(fig, {});\n",
       "    });\n",
       "}\n",
       "\n",
       "mpl.figure.prototype._canvas_extra_style = function(el){\n",
       "    // this is important to make the div 'focusable\n",
       "    el.attr('tabindex', 0)\n",
       "    // reach out to IPython and tell the keyboard manager to turn it's self\n",
       "    // off when our div gets focus\n",
       "\n",
       "    // location in version 3\n",
       "    if (IPython.notebook.keyboard_manager) {\n",
       "        IPython.notebook.keyboard_manager.register_events(el);\n",
       "    }\n",
       "    else {\n",
       "        // location in version 2\n",
       "        IPython.keyboard_manager.register_events(el);\n",
       "    }\n",
       "\n",
       "}\n",
       "\n",
       "mpl.figure.prototype._key_event_extra = function(event, name) {\n",
       "    var manager = IPython.notebook.keyboard_manager;\n",
       "    if (!manager)\n",
       "        manager = IPython.keyboard_manager;\n",
       "\n",
       "    // Check for shift+enter\n",
       "    if (event.shiftKey && event.which == 13) {\n",
       "        this.canvas_div.blur();\n",
       "        event.shiftKey = false;\n",
       "        // Send a \"J\" for go to next cell\n",
       "        event.which = 74;\n",
       "        event.keyCode = 74;\n",
       "        manager.command_mode();\n",
       "        manager.handle_keydown(event);\n",
       "    }\n",
       "}\n",
       "\n",
       "mpl.figure.prototype.handle_save = function(fig, msg) {\n",
       "    fig.ondownload(fig, null);\n",
       "}\n",
       "\n",
       "\n",
       "mpl.find_output_cell = function(html_output) {\n",
       "    // Return the cell and output element which can be found *uniquely* in the notebook.\n",
       "    // Note - this is a bit hacky, but it is done because the \"notebook_saving.Notebook\"\n",
       "    // IPython event is triggered only after the cells have been serialised, which for\n",
       "    // our purposes (turning an active figure into a static one), is too late.\n",
       "    var cells = IPython.notebook.get_cells();\n",
       "    var ncells = cells.length;\n",
       "    for (var i=0; i<ncells; i++) {\n",
       "        var cell = cells[i];\n",
       "        if (cell.cell_type === 'code'){\n",
       "            for (var j=0; j<cell.output_area.outputs.length; j++) {\n",
       "                var data = cell.output_area.outputs[j];\n",
       "                if (data.data) {\n",
       "                    // IPython >= 3 moved mimebundle to data attribute of output\n",
       "                    data = data.data;\n",
       "                }\n",
       "                if (data['text/html'] == html_output) {\n",
       "                    return [cell, data, j];\n",
       "                }\n",
       "            }\n",
       "        }\n",
       "    }\n",
       "}\n",
       "\n",
       "// Register the function which deals with the matplotlib target/channel.\n",
       "// The kernel may be null if the page has been refreshed.\n",
       "if (IPython.notebook.kernel != null) {\n",
       "    IPython.notebook.kernel.comm_manager.register_target('matplotlib', mpl.mpl_figure_comm);\n",
       "}\n"
      ],
      "text/plain": [
       "<IPython.core.display.Javascript object>"
      ]
     },
     "metadata": {},
     "output_type": "display_data"
    },
    {
     "data": {
      "text/html": [
       "<img src=\"data:image/png;base64,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\" width=\"800\">"
      ],
      "text/plain": [
       "<IPython.core.display.HTML object>"
      ]
     },
     "metadata": {},
     "output_type": "display_data"
    },
    {
     "data": {
      "text/plain": [
       "<matplotlib.legend.Legend at 0x1f628628a20>"
      ]
     },
     "execution_count": 983,
     "metadata": {},
     "output_type": "execute_result"
    }
   ],
   "source": [
    "s = np.linspace(0, L, L)\n",
    "fig, ax = plt.subplots(1,1,figsize=(8, 8))\n",
    "ax.set_ylabel('Вероятность ')\n",
    "ax.set_xlabel('Номер наблюдения')\n",
    "ax.plot(s, X[1], label = 'Номер кости')\n",
    "#ax.scatter(s, X[0]/5, label = 'Кол-во очков разделённое на 5', color='r')\n",
    "ax.plot(s, Pd[::, 1], label = 'Апостериорное распределение нечестной кости')\n",
    "ax.plot(s, model.predict_proba(X[0])[::, 1], label = 'Апостериорное распределение нечестной кости питоновского модуля')\n",
    "ax.legend()"
   ]
  },
  {
   "cell_type": "code",
   "execution_count": null,
   "metadata": {},
   "outputs": [],
   "source": []
  }
 ],
 "metadata": {
  "kernelspec": {
   "display_name": "Python 3",
   "language": "python",
   "name": "python3"
  },
  "language_info": {
   "codemirror_mode": {
    "name": "ipython",
    "version": 3
   },
   "file_extension": ".py",
   "mimetype": "text/x-python",
   "name": "python",
   "nbconvert_exporter": "python",
   "pygments_lexer": "ipython3",
   "version": "3.6.8"
  }
 },
 "nbformat": 4,
 "nbformat_minor": 2
}
